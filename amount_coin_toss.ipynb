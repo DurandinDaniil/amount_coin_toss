{
 "cells": [
  {
   "cell_type": "markdown",
   "id": "fa52dbeb",
   "metadata": {},
   "source": [
    "Утверждать, что монета нечестная можно лишь с определённым уровнем значимости, выберем для данной задачи значение в $$\\alpha = 0.05 $$\n",
    "\n",
    "Для начала сформируем две гипотезы:\n",
    "\n",
    "$$ H0: p = 0.05 $$\n",
    "$$ H1: p \\neq 0.05 $$\n",
    "\n",
    "Для определения \"нечестности\" монеты с определённым уровнем значимости, воспользуемя z тестом.\n",
    "\n",
    "$$ Z = \\frac {p_{0} - p} {\\sigma} $$\n",
    "\n",
    "где \n",
    "\n",
    "$$ \\sigma = \\sqrt{ \\frac{p \\times q} {n}} $$\n",
    "$$q = 1 - p $$\n",
    "\n",
    "\n",
    "выражая n получим:\n",
    "\n",
    "$$ n = \\frac {Z^2 \\times p \\times q} { (p_{0} - p)^2}   $$\n",
    "\n",
    "Для данных условий задачи получаем следующие значения:\n",
    "\n",
    "$$\n",
    "p = 0.5 \\\\\n",
    "p_{0} = 0.6 \\\\\n",
    "q = 1 - p = 0.5 \\\\\n",
    "Z_{0.05} = 1.96 \\\\\n",
    "$$\n",
    "\n"
   ]
  },
  {
   "cell_type": "code",
   "execution_count": 1,
   "id": "8c2b2696",
   "metadata": {},
   "outputs": [],
   "source": [
    "import scipy.stats as st\n",
    "import math\n",
    "\n",
    "def amount_coin_toss(p0, alpha):\n",
    "    \n",
    "    p = 0.5\n",
    "    q = 1- p \n",
    "    Z = st.norm.ppf(1 - alpha / 2)\n",
    "    \n",
    "    return math.ceil(Z**2 * p *q / (p0 - p)**2)\n",
    "    "
   ]
  },
  {
   "cell_type": "code",
   "execution_count": 2,
   "id": "4e3282aa",
   "metadata": {},
   "outputs": [
    {
     "data": {
      "text/plain": [
       "97"
      ]
     },
     "execution_count": 2,
     "metadata": {},
     "output_type": "execute_result"
    }
   ],
   "source": [
    "amount_coin_toss(0.6, 0.05)"
   ]
  }
 ],
 "metadata": {
  "kernelspec": {
   "display_name": "Python 3",
   "language": "python",
   "name": "python3"
  },
  "language_info": {
   "codemirror_mode": {
    "name": "ipython",
    "version": 3
   },
   "file_extension": ".py",
   "mimetype": "text/x-python",
   "name": "python",
   "nbconvert_exporter": "python",
   "pygments_lexer": "ipython3",
   "version": "3.7.6"
  }
 },
 "nbformat": 4,
 "nbformat_minor": 5
}
